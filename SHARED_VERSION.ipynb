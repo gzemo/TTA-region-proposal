{
  "nbformat": 4,
  "nbformat_minor": 0,
  "metadata": {
    "colab": {
      "provenance": []
    },
    "kernelspec": {
      "name": "python3",
      "display_name": "Python 3"
    },
    "language_info": {
      "name": "python"
    }
  },
  "cells": [
    {
      "cell_type": "markdown",
      "source": [
        "## In this section we introduce the paper.\n",
        "And here we will go in detail about the technical requirements, and afterwards the general experimental methods we are using.\n",
        "\n",
        "IMPORTANT: this notebook should never be used on jupyter notebook, but only on CoLAB, because some commands for preparation will change."
      ],
      "metadata": {
        "id": "JJtzKBZ2Nz4Z"
      }
    },
    {
      "cell_type": "code",
      "execution_count": null,
      "metadata": {
        "id": "0szW_2wHMBx9"
      },
      "outputs": [],
      "source": [
        "!pip install scikit-learn -q"
      ]
    },
    {
      "cell_type": "code",
      "source": [
        "%matplotlib inline\n",
        "\n",
        "import torch\n",
        "from torch.utils.tensorboard import SummaryWriter\n",
        "import torchvision\n",
        "import matplotlib.pyplot as plt\n",
        "import random\n",
        "from google.colab import drive"
      ],
      "metadata": {
        "id": "dmKBK8ZFMY88"
      },
      "execution_count": null,
      "outputs": []
    },
    {
      "cell_type": "code",
      "source": [
        "drive.mount('/content/drive')  #plug in a shared drive dataset afterwards"
      ],
      "metadata": {
        "id": "O9Fe4M10Mv1u"
      },
      "execution_count": null,
      "outputs": []
    },
    {
      "cell_type": "code",
      "source": [
        "# EXAMPLE to retrieve data, but that won't work for data because it's not a CSV, what matters is the directory being right.\n",
        "dataset = pd.read_csv(\"/content/drive/MyDrive/SharedWithMe/data.csv\", header=0, etc.)"
      ],
      "metadata": {
        "id": "p4eLsH42MbUO"
      },
      "execution_count": null,
      "outputs": []
    }
  ]
}